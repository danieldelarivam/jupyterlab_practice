{
 "cells": [
  {
   "cell_type": "code",
   "execution_count": 1,
   "id": "6c8c8d23-04b8-4ee4-a179-1ed14d64c310",
   "metadata": {},
   "outputs": [],
   "source": [
    "x= 2+2"
   ]
  },
  {
   "cell_type": "code",
   "execution_count": null,
   "id": "cdc2d51b-aa5b-406b-8b14-e64b943169fa",
   "metadata": {},
   "outputs": [],
   "source": [
    "print(x)"
   ]
  }
 ],
 "metadata": {
  "kernelspec": {
   "display_name": "Python [conda env:base] *",
   "language": "python",
   "name": "conda-base-py"
  },
  "language_info": {
   "codemirror_mode": {
    "name": "ipython",
    "version": 3
   },
   "file_extension": ".py",
   "mimetype": "text/x-python",
   "name": "python",
   "nbconvert_exporter": "python",
   "pygments_lexer": "ipython3",
   "version": "3.12.2"
  }
 },
 "nbformat": 4,
 "nbformat_minor": 5
}
