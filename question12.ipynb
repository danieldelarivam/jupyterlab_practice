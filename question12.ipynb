{
 "cells": [
  {
   "cell_type": "markdown",
   "id": "586ebd19-6475-49cb-b09b-9ddf792586c4",
   "metadata": {},
   "source": [
    "We are currently working in the following directory:"
   ]
  },
  {
   "cell_type": "code",
   "execution_count": 1,
   "id": "4325b97d-3b54-4ee8-abee-69cf39bbc2ce",
   "metadata": {},
   "outputs": [
    {
     "data": {
      "text/plain": [
       "'/Users/DanielDeLaRiva/Documents/GitHub/jupyterlab_practice'"
      ]
     },
     "execution_count": 1,
     "metadata": {},
     "output_type": "execute_result"
    }
   ],
   "source": [
    "%pwd"
   ]
  },
  {
   "cell_type": "markdown",
   "id": "5f3691d2-ff06-419a-a2cb-27feb64ca516",
   "metadata": {},
   "source": [
    "To time how long it takes to run a Python cell, we could use the`timeit`command inside a cell as is shown below:\n",
    "```\n",
    "%%timeit\n",
    "for i in range(1_000_000):\n",
    "        i**2\n",
    "```"
   ]
  },
  {
   "cell_type": "code",
   "execution_count": 2,
   "id": "7700f962-a44b-46e9-8f34-63d161d6caff",
   "metadata": {},
   "outputs": [
    {
     "name": "stdout",
     "output_type": "stream",
     "text": [
      "[NbConvertApp] Converting notebook question12.ipynb to html\n",
      "[NbConvertApp] Writing 271048 bytes to question12.html\n"
     ]
    }
   ],
   "source": [
    "!jupyter nbconvert question12.ipynb \\\n",
    "    --to html \\\n",
    "    --output=question12.html \\\n",
    "    --no-input"
   ]
  }
 ],
 "metadata": {
  "kernelspec": {
   "display_name": "Python [conda env:practiceenv]",
   "language": "python",
   "name": "conda-env-practiceenv-py"
  },
  "language_info": {
   "codemirror_mode": {
    "name": "ipython",
    "version": 3
   },
   "file_extension": ".py",
   "mimetype": "text/x-python",
   "name": "python",
   "nbconvert_exporter": "python",
   "pygments_lexer": "ipython3",
   "version": "3.10.14"
  }
 },
 "nbformat": 4,
 "nbformat_minor": 5
}
