{
 "cells": [
  {
   "cell_type": "markdown",
   "id": "2e8f929c-e3e0-4847-9d55-4343648392b9",
   "metadata": {},
   "source": [
    "# Daniel de la Riva Massaad\n",
    "Notebook for Assignment 7"
   ]
  },
  {
   "cell_type": "code",
   "execution_count": 1,
   "id": "4d2a0bc3-e82a-4d81-a3b4-deb388052b44",
   "metadata": {},
   "outputs": [
    {
     "data": {
      "text/plain": [
       "5.0"
      ]
     },
     "execution_count": 1,
     "metadata": {},
     "output_type": "execute_result"
    }
   ],
   "source": [
    "def compute_mean(x):\n",
    "    mean = sum(x)/len(x)\n",
    "    return mean\n",
    "compute_mean([2,4,6,8])"
   ]
  },
  {
   "cell_type": "markdown",
   "id": "72fd0fee-f43d-48eb-af69-27e4c4fbf699",
   "metadata": {},
   "source": [
    "The code above does the following operation: It takes a vector (or list) $x=(x_{1},...,x_{n})$ and returns its mean value, that is:\n",
    "\n",
    "$$\\bar{x} = \\frac{x_{1}+...+x_{n}}{n} = \\frac{1}{n}\\Bigg(\\sum_{i=1}^{n}x_{i}\\Bigg) $$"
   ]
  }
 ],
 "metadata": {
  "kernelspec": {
   "display_name": "Python [conda env:practiceenv]",
   "language": "python",
   "name": "conda-env-practiceenv-py"
  },
  "language_info": {
   "codemirror_mode": {
    "name": "ipython",
    "version": 3
   },
   "file_extension": ".py",
   "mimetype": "text/x-python",
   "name": "python",
   "nbconvert_exporter": "python",
   "pygments_lexer": "ipython3",
   "version": "3.10.14"
  }
 },
 "nbformat": 4,
 "nbformat_minor": 5
}
